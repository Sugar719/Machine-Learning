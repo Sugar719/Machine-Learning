{
 "cells": [
  {
   "cell_type": "code",
   "execution_count": 1,
   "metadata": {},
   "outputs": [
    {
     "name": "stdout",
     "output_type": "stream",
     "text": [
      "模型建好后的运行结果如下：\n",
      "=======================\n",
      "新加入样本的类别是： [1]\n",
      "该模型针对次数据集的分类正确率是:0.96\n"
     ]
    }
   ],
   "source": [
    "import numpy as np\n",
    "import matplotlib.pyplot as plt\n",
    "from sklearn.datasets import make_blobs  #make_blobs 聚类数据生成器 \n",
    "from sklearn.neighbors import KNeighborsClassifier   #KNeighborsClassfier K近邻分类\n",
    "#sklearn 基于Python语言的机器学习工具，支持包括分类，回归，降维和聚类四大机器学习算法。\n",
    "#  还包括了特征提取，数据处理和模型评估者三大模块。\n",
    "#  sklearn.datasets (众)数据集；sklearn.neighbors 最近邻\n",
    "\n",
    "\n",
    "data=make_blobs(n_samples=5000,centers=5,random_state=8)\n",
    "# n_samples 待生成样本的总数，sample 样本，抽样\n",
    "# centers 要生成的样本中心数\n",
    "# randon_state 随机生成器的种子\n",
    "X,y=data\n",
    "#返回值，X 生成的样本数据集；y 样本数据集的标签\n",
    "\n",
    "plt.scatter(X[:,0],X[:,1],c=y,cmap=plt.cm.spring,edgecolor='k')\n",
    "#c颜色，cmap Colormap实体或者是一个colormap的名字，cmap仅仅当c是一个浮点数数组的时候才使用。\n",
    "\n",
    "clf=KNeighborsClassifier()\n",
    "clf.fit(X,y)\n",
    "\n",
    "\n",
    "x_min,x_max=X[:,0].min()-1,X[:,0].max()+1\n",
    "y_min,y_max=X[:,1].min()-1,X[:,1].max()+1\n",
    "\n",
    "xx,yy=np.meshgrid(np.arange(x_min,x_max,0.02),\n",
    "                  np.arange(y_min,y_max,0.02))\n",
    "Z=clf.predict(np.c_[xx.ravel(),yy.ravel()])\n",
    "Z=Z.reshape(xx.shape)\n",
    "plt.pcolormesh(xx,yy,Z,cmap=plt.cm.Pastel1)\n",
    "plt.scatter(X[:,0],X[:,1],c=y,cmap=plt.cm.spring,edgecolor='k')\n",
    "plt.title('KNN-Classifier')\n",
    "plt.scatter(6.88,4.18,marker='*',s=200,c='r')\n",
    "plt.xlim([x_min,x_max])\n",
    "\n",
    "\n",
    "print('模型建好后的运行结果如下：')\n",
    "print('=======================')\n",
    "print('新加入样本的类别是：',clf.predict([[6.72,4.29]]))\n",
    "\n",
    "print('该模型针对次数据集的分类正确率是:{:.2f}'.format(clf.score(X,y)))"
   ]
  },
  {
   "cell_type": "code",
   "execution_count": 2,
   "metadata": {},
   "outputs": [
    {
     "data": {
      "text/plain": [
       "array(['男'], dtype='<U1')"
      ]
     },
     "execution_count": 2,
     "metadata": {},
     "output_type": "execute_result"
    }
   ],
   "source": [
    "#导包\n",
    "import numpy as np\n",
    "import pandas  as pd\n",
    "from pandas import DataFrame,Series\n",
    "\n",
    "#手动创建训练数据集\n",
    "feature = np.array([[170,65,41],[166,55,38],[177,80,39],[179,80,43],[170,60,40],[170,60,38]])\n",
    "target = np.array(['男','女','女','男','女','女'])\n",
    "\n",
    "from sklearn.neighbors import KNeighborsClassifier #k邻近算法模型\n",
    "\n",
    "#实例k邻近模型，指定k值=3\n",
    "knn = KNeighborsClassifier(n_neighbors=3)\n",
    "\n",
    "#训练数据\n",
    "knn.fit(feature,target)\n",
    "\n",
    "#模型评分\n",
    "knn.score(feature,target)\n",
    "\n",
    "#预测\n",
    "knn.predict(np.array([[176,71,38]]))"
   ]
  },
  {
   "cell_type": "code",
   "execution_count": null,
   "metadata": {},
   "outputs": [],
   "source": []
  }
 ],
 "metadata": {
  "kernelspec": {
   "display_name": "Python 3",
   "language": "python",
   "name": "python3"
  },
  "language_info": {
   "codemirror_mode": {
    "name": "ipython",
    "version": 3
   },
   "file_extension": ".py",
   "mimetype": "text/x-python",
   "name": "python",
   "nbconvert_exporter": "python",
   "pygments_lexer": "ipython3",
   "version": "3.7.3"
  }
 },
 "nbformat": 4,
 "nbformat_minor": 2
}
